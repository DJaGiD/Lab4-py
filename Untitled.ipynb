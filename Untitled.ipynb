{
 "cells": [
  {
   "cell_type": "code",
   "execution_count": 16,
   "id": "e859d28f",
   "metadata": {
    "scrolled": true
   },
   "outputs": [
    {
     "name": "stdout",
     "output_type": "stream",
     "text": [
      "Enter your number1\n",
      "[1]\n",
      "It took 0.0002665000065462664 seconds\n"
     ]
    }
   ],
   "source": [
    "from timeit import default_timer as timer\n",
    "\n",
    "n = int(input(\"Enter your number\"))\n",
    "start = timer()\n",
    "base_list = []\n",
    "for i in range(1, n+1):\n",
    "    row = []\n",
    "    for a in range(1, n+1):\n",
    "        if a != i:\n",
    "            row.append(0)\n",
    "        else:\n",
    "            row.append(i)\n",
    "    base_list.append(row)\n",
    "for r in base_list:\n",
    "    print(r, end=\"\")\n",
    "    print()\n",
    "end = timer()\n",
    "print(f\"It took {end - start} seconds\")"
   ]
  },
  {
   "cell_type": "code",
   "execution_count": 8,
   "id": "200d9c9b",
   "metadata": {},
   "outputs": [
    {
     "name": "stdout",
     "output_type": "stream",
     "text": [
      "Enter your number1\n",
      "[[1]]\n",
      "It took 0.0 seconds\n"
     ]
    }
   ],
   "source": [
    "import time\n",
    "import numpy as np\n",
    "\n",
    "\n",
    "\n",
    "n = int(input(\"Enter your number\"))\n",
    "start = time.time()\n",
    "base_list = np.zeros([n, n], dtype=int)\n",
    "for i in range(0, n):\n",
    "    base_list[i][i] = i+1\n",
    "print(base_list)\n",
    "end = time.time()\n",
    "print(f\"It took {end - start} seconds\")\n",
    "\n"
   ]
  },
  {
   "cell_type": "code",
   "execution_count": 33,
   "id": "f692d640",
   "metadata": {},
   "outputs": [
    {
     "name": "stdout",
     "output_type": "stream",
     "text": [
      "Enter n: \n",
      "6\n",
      "Enter m: \n",
      "7\n",
      "Enter r: \n",
      "2\n",
      "Enter c: \n",
      "3\n",
      "[0, 0, 0, 0, 0, 0, 0]\n",
      "[0, 1, 1, 0, 1, 1, 0]\n",
      "[0, 0, 0, 0, 0, 0, 0]\n",
      "[0, 1, 1, 0, 1, 1, 0]\n",
      "[0, 0, 0, 0, 0, 0, 0]\n",
      "[0, 1, 1, 0, 1, 1, 0]\n",
      "It took 0.0003775999939534813 seconds\n"
     ]
    }
   ],
   "source": [
    "from timeit import default_timer as timer\n",
    "\n",
    "\n",
    "n = int(input(\"Enter n: \\n\"))\n",
    "m = int(input(\"Enter m: \\n\"))\n",
    "r = int(input(\"Enter r: \\n\"))\n",
    "c = int(input(\"Enter c: \\n\"))\n",
    "start = timer()\n",
    "base_array = []\n",
    "zero_string = [0]*m\n",
    "ones_string = [1]*m\n",
    "for i in range(0, m):\n",
    "    if i % c == 0:\n",
    "        ones_string[i] = 0\n",
    "for i in range(0, n):\n",
    "    if i % r == 0:\n",
    "        base_array.append(zero_string)\n",
    "    else:\n",
    "        base_array.append(ones_string)\n",
    "\n",
    "for r in base_array:\n",
    "    print(r, end=\"\")\n",
    "    print()\n",
    "end = timer()\n",
    "print(f\"It took {end - start} seconds\")"
   ]
  },
  {
   "cell_type": "code",
   "execution_count": 32,
   "id": "22079928",
   "metadata": {},
   "outputs": [
    {
     "name": "stdout",
     "output_type": "stream",
     "text": [
      "Enter n: \n",
      "6\n",
      "Enter m: \n",
      "7\n",
      "Enter r: \n",
      "2\n",
      "Enter c: \n",
      "3\n",
      "[[0 0 0 0 0 0 0]\n",
      " [0 1 1 0 1 1 0]\n",
      " [0 0 0 0 0 0 0]\n",
      " [0 1 1 0 1 1 0]\n",
      " [0 0 0 0 0 0 0]\n",
      " [0 1 1 0 1 1 0]]\n",
      "It took 0.0009999275207519531 seconds\n"
     ]
    }
   ],
   "source": [
    "import time\n",
    "import numpy as np\n",
    "\n",
    "\n",
    "\n",
    "n = int(input(\"Enter n: \\n\"))\n",
    "m = int(input(\"Enter m: \\n\"))\n",
    "r = int(input(\"Enter r: \\n\"))\n",
    "c = int(input(\"Enter c: \\n\"))\n",
    "start = time.time()\n",
    "base_array = np.zeros([n, m], dtype=int)\n",
    "for i in range(1, n, r):\n",
    "    for a in range(1, m):\n",
    "        if a % c != 0:\n",
    "            base_array[i][a] = 1\n",
    "print(base_array)\n",
    "end = time.time()\n",
    "print(f\"It took {end - start} seconds\")"
   ]
  },
  {
   "cell_type": "code",
   "execution_count": 169,
   "id": "593ca446",
   "metadata": {},
   "outputs": [
    {
     "name": "stdout",
     "output_type": "stream",
     "text": [
      "Enter n: \n",
      "3\n",
      "Enter m: \n",
      "4\n",
      "[0, 1, 2, 3, [0, 0, 0, 0], [0, 0, 0, 0]]\n",
      "It took 0.0003054000117117539 seconds\n"
     ]
    }
   ],
   "source": [
    "from timeit import default_timer as timer\n",
    "\n",
    "\n",
    "n = int(input(\"Enter n: \\n\"))\n",
    "m = int(input(\"Enter m: \\n\"))\n",
    "start = timer()\n",
    "base_array = []\n",
    "zero_string = [0]*m\n",
    "c = 0\n",
    "for i in range(0, m):\n",
    "    if m-1>0:\n",
    "        base_array.append(c)\n",
    "        c+=1\n",
    "\n",
    "for i in range(0, n-1):\n",
    "        if n>0:\n",
    "            base_array.append(zero_string)\n",
    "\n",
    "\n",
    "print(base_array)\n",
    "end = timer()\n",
    "print(f\"It took {end - start} seconds\")"
   ]
  },
  {
   "cell_type": "code",
   "execution_count": 170,
   "id": "99036d8b",
   "metadata": {},
   "outputs": [
    {
     "name": "stdout",
     "output_type": "stream",
     "text": [
      "Enter n: \n",
      "3\n",
      "Enter m: \n",
      "4\n",
      "[[0 1 2 3]\n",
      " [0 0 0 0]\n",
      " [0 0 0 0]]\n",
      "It took 0.0009999275207519531 seconds\n"
     ]
    }
   ],
   "source": [
    "import time\n",
    "import numpy as np\n",
    "\n",
    "\n",
    "\n",
    "n = int(input(\"Enter n: \\n\"))\n",
    "m = int(input(\"Enter m: \\n\"))\n",
    "c = 0\n",
    "start = time.time()\n",
    "base_array = np.zeros([n, m], dtype=int)\n",
    "for i in range(0, n):\n",
    "    for a in range(0, m):\n",
    "        if c<m:\n",
    "            base_array[i][a] = c\n",
    "            c+=1\n",
    "        else:\n",
    "            base_array[i][a] = 0\n",
    "print(base_array)\n",
    "end = time.time()\n",
    "print(f\"It took {end - start} seconds\")"
   ]
  },
  {
   "cell_type": "code",
   "execution_count": 172,
   "id": "ff238170",
   "metadata": {},
   "outputs": [
    {
     "name": "stdout",
     "output_type": "stream",
     "text": [
      "Enter the numbers: 3 4 0 9 7 0 6 0 4 0 3\n",
      "[-1, -1, 0, -1, -1, 0, -1, 0, -1, 0, -1]\n",
      "It took 0.0 seconds\n"
     ]
    }
   ],
   "source": [
    "import time\n",
    "\n",
    "\n",
    "\n",
    "base_list = [int(item) for item in input(\"Enter the numbers: \").split()]\n",
    "start = time.time()\n",
    "for i in range(0, len(base_list)):\n",
    "    if base_list[i] != 0:\n",
    "        base_list[i] = -1\n",
    "print(base_list)\n",
    "end = time.time()\n",
    "print(f\"It took {end - start} seconds\")"
   ]
  },
  {
   "cell_type": "code",
   "execution_count": 171,
   "id": "3a267e8a",
   "metadata": {},
   "outputs": [
    {
     "name": "stdout",
     "output_type": "stream",
     "text": [
      "Enter the numbers: 3 4 0 9 7 0 6 0 4 0 3\n",
      "[-1 -1  0 -1 -1  0 -1  0 -1  0 -1]\n",
      "It took 0.0020034313201904297 seconds\n"
     ]
    }
   ],
   "source": [
    "import time\n",
    "import numpy as np\n",
    "\n",
    "\n",
    "\n",
    "base_list = np.array([int(item) for item in input(\"Enter the numbers: \").split()])\n",
    "start = time.time()\n",
    "base_list[base_list != 0] = -1\n",
    "print(base_list)\n",
    "end = time.time()\n",
    "print(f\"It took {end - start} seconds\")"
   ]
  },
  {
   "cell_type": "code",
   "execution_count": 219,
   "id": "2361a9e9",
   "metadata": {},
   "outputs": [
    {
     "name": "stdout",
     "output_type": "stream",
     "text": [
      "Enter n: \n",
      "3\n",
      "Enter m: \n",
      "4\n",
      "Min num: 0.012\n",
      "Max num: 0.889\n",
      "Average num: 0.594\n",
      "dispersia: 0.412\n",
      "It took 0.0010192394256591797 seconds\n"
     ]
    }
   ],
   "source": [
    "import random\n",
    "import statistics as stat\n",
    "import time\n",
    "\n",
    "n = int(input(\"Enter n: \\n\"))\n",
    "m = int(input(\"Enter m: \\n\"))\n",
    "start = time.time()\n",
    "base_list=[random.random() for n in range(m)]\n",
    "\n",
    "min_baselist = min(base_list)\n",
    "min_baselist= round(min_baselist, 3)\n",
    "print(\"Min num:\",min_baselist)\n",
    "\n",
    "max_baselist = max(base_list)\n",
    "max_baselist = round(max_baselist, 3)\n",
    "print(\"Max num:\", max_baselist)\n",
    "\n",
    "avg_baselist = sum(base_list)/len(base_list)\n",
    "avg_baselist = round(avg_baselist, 3)\n",
    "print(\"Average num:\",avg_baselist)\n",
    "\n",
    "dis = stat.stdev(base_list)\n",
    "dis = round(dis, 3)\n",
    "print(\"dispersia:\",dis)\n",
    "end = time.time()\n",
    "print(f\"It took {end - start} seconds\")"
   ]
  },
  {
   "cell_type": "code",
   "execution_count": 251,
   "id": "288bb17a",
   "metadata": {},
   "outputs": [
    {
     "name": "stdout",
     "output_type": "stream",
     "text": [
      "Enter n: \n",
      "3\n",
      "Enter m: \n",
      "4\n",
      "Min num: 0.086\n",
      "Max num: 0.973\n",
      "Average num: 0.477\n",
      "dispersia: 0.369\n",
      "It took 0.0009982585906982422 seconds\n"
     ]
    }
   ],
   "source": [
    "import random\n",
    "import statistics as stat\n",
    "import time\n",
    "import numpy \n",
    "\n",
    "n = int(input(\"Enter n: \\n\"))\n",
    "m = int(input(\"Enter m: \\n\"))\n",
    "start = time.time()\n",
    "base_list= numpy.array([random.random() for i in range(n)])\n",
    "\n",
    "min_baselist = min(base_list)\n",
    "min_baselist= round(min_baselist, 3)\n",
    "print(\"Min num:\",min_baselist)\n",
    "\n",
    "max_baselist = max(base_list)\n",
    "max_baselist = round(max_baselist, 3)\n",
    "print(\"Max num:\", max_baselist)\n",
    "\n",
    "avg_baselist = numpy.average(base_list)\n",
    "avg_baselist = round(avg_baselist, 3)\n",
    "print(\"Average num:\",avg_baselist)\n",
    "\n",
    "dis = numpy.std(base_list)\n",
    "dis = round(dis, 3)\n",
    "print(\"dispersia:\",dis)\n",
    "end = time.time()\n",
    "print(f\"It took {end - start} seconds\")"
   ]
  },
  {
   "cell_type": "code",
   "execution_count": 455,
   "id": "97033cd7",
   "metadata": {},
   "outputs": [
    {
     "name": "stdout",
     "output_type": "stream",
     "text": [
      "[0, 0, 0, 0]\t\n",
      "\n",
      "[0, 1, 1, 0]\t\n",
      "\n",
      "[0, 1, 1, 0]\t\n",
      "\n",
      "[0, 0, 0, 0]\t\n",
      "\n",
      "It took 0.0009996891021728516 seconds\n"
     ]
    }
   ],
   "source": [
    "import time\n",
    "\n",
    "start = time.time()\n",
    "m = 4\n",
    "n = 4\n",
    "a = [[1] * m for _ in range(n)]\n",
    "for i in range(0, n):\n",
    "    for j in range(0, m):\n",
    "        a[i][0], a[i][-1] = 0, 0\n",
    "        a[0][j], a[-1][j] = 0, 0\n",
    "for i in range(0, n):\n",
    "    print(a[i], end=\"\\t\")\n",
    "    print(\"\\n\")\n",
    "end = time.time()\n",
    "print(f\"It took {end - start} seconds\")"
   ]
  },
  {
   "cell_type": "code",
   "execution_count": 456,
   "id": "20e413d8",
   "metadata": {},
   "outputs": [
    {
     "name": "stdout",
     "output_type": "stream",
     "text": [
      "[[0. 0. 0. 0.]\n",
      " [0. 1. 1. 0.]\n",
      " [0. 1. 1. 0.]\n",
      " [0. 0. 0. 0.]]\n",
      "It took 0.00099945068359375 seconds\n"
     ]
    }
   ],
   "source": [
    "import time\n",
    "import numpy as np\n",
    "\n",
    "start = time.time()\n",
    "m = 4\n",
    "n = 4\n",
    "a = np.zeros((m, n))\n",
    "a[1:-1, 1:-1] = 1\n",
    "print(a)\n",
    "end = time.time()\n",
    "print(f\"It took {end - start} seconds\")"
   ]
  },
  {
   "cell_type": "code",
   "execution_count": 460,
   "id": "b50ea4aa",
   "metadata": {},
   "outputs": [
    {
     "name": "stdout",
     "output_type": "stream",
     "text": [
      "Enter n: \n",
      "8\n",
      "[0, 1, 0, 1, 0, 1, 0, 1]\n",
      "[0, 1, 0, 1, 0, 1, 0, 1]\n",
      "[0, 1, 0, 1, 0, 1, 0, 1]\n",
      "[0, 1, 0, 1, 0, 1, 0, 1]\n",
      "[0, 1, 0, 1, 0, 1, 0, 1]\n",
      "[0, 1, 0, 1, 0, 1, 0, 1]\n",
      "[0, 1, 0, 1, 0, 1, 0, 1]\n",
      "[0, 1, 0, 1, 0, 1, 0, 1]\n",
      "It took 0.0010008811950683594 seconds\n"
     ]
    }
   ],
   "source": [
    "import time\n",
    "\n",
    "\n",
    "n = int(input(\"Enter n: \\n\"))\n",
    "start = time.time()\n",
    "row = [0] * n\n",
    "for i in range(0, n):\n",
    "    if i % 2 == 1:\n",
    "        row[i] = 1\n",
    "base_list = [row] * n\n",
    "for r in base_list:\n",
    "    print(r, end=\"\")\n",
    "    print()\n",
    "end = time.time()\n",
    "print(f\"It took {end - start} seconds\")"
   ]
  },
  {
   "cell_type": "code",
   "execution_count": 459,
   "id": "7b2b7345",
   "metadata": {},
   "outputs": [
    {
     "name": "stdout",
     "output_type": "stream",
     "text": [
      "Enter n: \n",
      "8\n",
      "[[0 1 0 1 0 1 0 1]\n",
      " [0 1 0 1 0 1 0 1]\n",
      " [0 1 0 1 0 1 0 1]\n",
      " [0 1 0 1 0 1 0 1]\n",
      " [0 1 0 1 0 1 0 1]\n",
      " [0 1 0 1 0 1 0 1]\n",
      " [0 1 0 1 0 1 0 1]\n",
      " [0 1 0 1 0 1 0 1]]\n",
      "It took 0.0010013580322265625 seconds\n"
     ]
    }
   ],
   "source": [
    "import time\n",
    "import numpy as np\n",
    "\n",
    "\n",
    "n = int(input(\"Enter n: \\n\"))\n",
    "start = time.time()\n",
    "base_list = np.zeros((n, n), dtype=int)\n",
    "for i in range(0, n):\n",
    "    for a in range(0, n):\n",
    "        if a % 2 == 1:\n",
    "            base_list[i][a] = 1\n",
    "print(base_list)\n",
    "end = time.time()\n",
    "print(f\"It took {end - start} seconds\")"
   ]
  },
  {
   "cell_type": "code",
   "execution_count": 468,
   "id": "33a65e2f",
   "metadata": {},
   "outputs": [
    {
     "name": "stdout",
     "output_type": "stream",
     "text": [
      "Enter n: \n",
      "10\n",
      "[0, 1, 2, 3, 4, 5, 6, 7, -8, -9, -10]\n",
      "It took 0.0 seconds\n"
     ]
    }
   ],
   "source": [
    "import time\n",
    "\n",
    "\n",
    "\n",
    "n = int(input(\"Enter n: \\n\"))\n",
    "start = time.time()\n",
    "base_vector = [*range(0, n+1)]\n",
    "for i in range(0, n+1):\n",
    "    if (base_vector[i] > n/2) and (base_vector[i] > 3*n/4):\n",
    "        base_vector[i] = base_vector[i]*(-1)\n",
    "print(base_vector)\n",
    "end = time.time()\n",
    "print(f\"It took {end - start} seconds\")"
   ]
  },
  {
   "cell_type": "code",
   "execution_count": 466,
   "id": "ce5c9fd2",
   "metadata": {},
   "outputs": [
    {
     "name": "stdout",
     "output_type": "stream",
     "text": [
      "Enter n: \n",
      "10\n",
      "[  0   1   2   3   4   5   6   7  -8  -9 -10]\n",
      "It took 0.0 seconds\n"
     ]
    }
   ],
   "source": [
    "import time\n",
    "import numpy as np\n",
    "\n",
    "\n",
    "n = int(input(\"Enter n: \\n\"))\n",
    "start = time.time()\n",
    "base_vector = np.arange(0, n+1)\n",
    "for i in range(0, n+1):\n",
    "    if (base_vector[i] > n / 2) and (base_vector[i] > 3 * n / 4):\n",
    "        base_vector[i] = base_vector[i]*(-1)\n",
    "print(base_vector)\n",
    "end = time.time()\n",
    "print(f\"It took {end - start} seconds\")\n"
   ]
  },
  {
   "cell_type": "code",
   "execution_count": 470,
   "id": "f135eca2",
   "metadata": {},
   "outputs": [
    {
     "name": "stdout",
     "output_type": "stream",
     "text": [
      "Enter n: \n",
      "30\n",
      "В послідовності [78, 62, 92, 32, 85, 12, 2, 66, 53, 47, 39, 65, 63, 44, 9, 63, 88, 52, 44, 79, 68, 20, 95, 77, 28, 60, 66, 55, 50, 32] - 26 оригінальних чисел\n",
      "It took 0.0 seconds\n"
     ]
    }
   ],
   "source": [
    "import time\n",
    "import random\n",
    "\n",
    "\n",
    "n = int(input(\"Enter n: \\n\"))\n",
    "start = time.time()\n",
    "base_vector = []\n",
    "originals = []\n",
    "for i in range(0, n):\n",
    "    base_vector.append(random.randint(0, 99))\n",
    "    if base_vector[i] not in originals:\n",
    "        originals.append(base_vector[i])\n",
    "print(f\"В послідовності {base_vector} - {len(originals)} оригінальних чисел\")\n",
    "end = time.time()\n",
    "print(f\"It took {end - start} seconds\")"
   ]
  },
  {
   "cell_type": "code",
   "execution_count": 471,
   "id": "cfdffb54",
   "metadata": {},
   "outputs": [
    {
     "name": "stdout",
     "output_type": "stream",
     "text": [
      "Enter n: \n",
      "30\n",
      "В послідовності [51 59 55 51 63 73 75 23 42 39 26 75 14  2 33 43 87 51  3  2 15 55 23 80\n",
      " 10 36 56 73 30 75] - 22 оригінальних чисел\n",
      "It took 0.008250713348388672 seconds\n"
     ]
    }
   ],
   "source": [
    "import time\n",
    "import numpy as np\n",
    "\n",
    "\n",
    "\n",
    "n = int(input(\"Enter n: \\n\"))\n",
    "start = time.time()\n",
    "base_vector = np.random.randint(99, size=n)\n",
    "print(f\"В послідовності {base_vector} - {len(np.unique(base_vector))} оригінальних чисел\")\n",
    "end = time.time()\n",
    "print(f\"It took {end - start} seconds\")"
   ]
  },
  {
   "cell_type": "code",
   "execution_count": null,
   "id": "b5fbf986",
   "metadata": {},
   "outputs": [],
   "source": []
  }
 ],
 "metadata": {
  "kernelspec": {
   "display_name": "Python 3 (ipykernel)",
   "language": "python",
   "name": "python3"
  },
  "language_info": {
   "codemirror_mode": {
    "name": "ipython",
    "version": 3
   },
   "file_extension": ".py",
   "mimetype": "text/x-python",
   "name": "python",
   "nbconvert_exporter": "python",
   "pygments_lexer": "ipython3",
   "version": "3.11.4"
  }
 },
 "nbformat": 4,
 "nbformat_minor": 5
}
